{
 "cells": [
  {
   "cell_type": "markdown",
   "metadata": {},
   "source": [
    "![title](img/1456_1.png)"
   ]
  },
  {
   "cell_type": "code",
   "execution_count": null,
   "metadata": {},
   "outputs": [],
   "source": [
    "class Solution(object):\n",
    "    def maxVowels(self, s, k):\n",
    "        \"\"\"\n",
    "        :type s: str\n",
    "        :type k: int\n",
    "        :rtype: int\n",
    "        \"\"\"\n",
    "        vowels = set(\"aeiouAEIOU\")\n",
    "        prev = s[0]\n",
    "        i ,j = 1, k\n",
    "        curr = sum(1 for el in s[0:k] if el in vowels)\n",
    "        maximum = curr\n",
    "        cont = 0\n",
    "\n",
    "        while j < len(s):\n",
    "            if prev in vowels:\n",
    "                cont -= 1\n",
    "            if s[j] in vowels:\n",
    "                cont += 1\n",
    "            curr += cont\n",
    "            maximum = max(maximum, curr)\n",
    "            prev = s[i]\n",
    "            i += 1\n",
    "            j += 1\n",
    "            cont = 0\n",
    "        return maximum"
   ]
  },
  {
   "cell_type": "markdown",
   "metadata": {},
   "source": [
    "![title](img/1456_2.png)"
   ]
  },
  {
   "cell_type": "markdown",
   "metadata": {},
   "source": []
  }
 ],
 "metadata": {
  "language_info": {
   "name": "python"
  }
 },
 "nbformat": 4,
 "nbformat_minor": 2
}
