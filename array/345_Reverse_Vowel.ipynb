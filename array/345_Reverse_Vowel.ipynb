{
 "cells": [
  {
   "cell_type": "markdown",
   "metadata": {},
   "source": [
    "![title](img/345_1.png)"
   ]
  },
  {
   "cell_type": "code",
   "execution_count": 1,
   "metadata": {},
   "outputs": [],
   "source": [
    "class Solution(object):\n",
    "    def reverseVowels(self, sentence):\n",
    "        \"\"\"\n",
    "        :type s: str\n",
    "        :rtype: str\n",
    "        \"\"\"\n",
    "        i, j = 0, len(sentence) - 1\n",
    "        vowels = set(\"aeiouAEIOU\")\n",
    "\n",
    "        sentence = list(sentence)\n",
    "        while i < j:\n",
    "            if sentence[i] not in vowels:\n",
    "                i +=1\n",
    "                continue\n",
    "\n",
    "            while i < j and sentence[j] not in vowels:\n",
    "                j -= 1\n",
    "            \n",
    "            sentence[i], sentence[j] = sentence[j], sentence[i]\n",
    "            i += 1\n",
    "            j -= 1\n",
    "\n",
    "        return \"\".join(sentence)\n",
    "        "
   ]
  },
  {
   "cell_type": "markdown",
   "metadata": {},
   "source": [
    "![title](img/345_2.png)"
   ]
  }
 ],
 "metadata": {
  "kernelspec": {
   "display_name": "ds",
   "language": "python",
   "name": "python3"
  },
  "language_info": {
   "codemirror_mode": {
    "name": "ipython",
    "version": 3
   },
   "file_extension": ".py",
   "mimetype": "text/x-python",
   "name": "python",
   "nbconvert_exporter": "python",
   "pygments_lexer": "ipython3",
   "version": "3.10.10"
  }
 },
 "nbformat": 4,
 "nbformat_minor": 2
}
