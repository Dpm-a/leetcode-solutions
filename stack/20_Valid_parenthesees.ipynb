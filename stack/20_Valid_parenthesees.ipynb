{
 "cells": [
  {
   "cell_type": "markdown",
   "metadata": {},
   "source": [
    "<a href=\"https://ibb.co/WBHYSH9\"><img src=\"https://i.ibb.co/BTfS8fD/Screenshot-2023-11-22-at-18-04-29.png\" alt=\"Screenshot-2023-11-22-at-18-04-29\" border=\"0\"></a>"
   ]
  },
  {
   "cell_type": "code",
   "execution_count": null,
   "metadata": {},
   "outputs": [],
   "source": [
    "def isValid(self, string):\n",
    "    \"\"\"\n",
    "    :type s: str\n",
    "    :rtype: bool\n",
    "    \"\"\"\n",
    "    stack = []\n",
    "    for el in string:\n",
    "        if el in \"([{\":\n",
    "            stack.append(el)\n",
    "        else:\n",
    "            if stack and abs(ord(stack[-1])  - ord(el)) <= 2:\n",
    "                stack.pop()\n",
    "            else:\n",
    "                return False \n",
    "        \n",
    "    return True if not stack else False"
   ]
  }
 ],
 "metadata": {
  "language_info": {
   "name": "python"
  }
 },
 "nbformat": 4,
 "nbformat_minor": 2
}
