{
 "cells": [
  {
   "cell_type": "markdown",
   "metadata": {},
   "source": [
    "![title](img/735_1.png)"
   ]
  },
  {
   "cell_type": "code",
   "execution_count": null,
   "metadata": {
    "vscode": {
     "languageId": "plaintext"
    }
   },
   "outputs": [],
   "source": [
    "class Solution(object):\n",
    "\n",
    "    def asteroidCollision(self, asteroids):\n",
    "        stack = []\n",
    "\n",
    "        for asteroid in asteroids:\n",
    "            while stack and asteroid < 0 < stack[-1]:\n",
    "                if abs(asteroid) > stack[-1]:\n",
    "                    stack.pop()\n",
    "                    continue\n",
    "                elif abs(asteroid) == stack[-1]:\n",
    "                    stack.pop()\n",
    "                break\n",
    "\n",
    "            else:\n",
    "                stack.append(asteroid)\n",
    "\n",
    "        return stack"
   ]
  },
  {
   "cell_type": "markdown",
   "metadata": {},
   "source": [
    "![title](img/735_2.png)"
   ]
  }
 ],
 "metadata": {
  "language_info": {
   "name": "python"
  }
 },
 "nbformat": 4,
 "nbformat_minor": 2
}
