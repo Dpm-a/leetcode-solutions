{
 "cells": [
  {
   "cell_type": "markdown",
   "metadata": {},
   "source": [
    "<img src='img/382_1.png' />"
   ]
  },
  {
   "cell_type": "code",
   "execution_count": 2,
   "metadata": {},
   "outputs": [],
   "source": [
    "import random\n",
    "# Definition for singly-linked list.\n",
    "# class ListNode(object):\n",
    "#     def __init__(self, val=0, next=None):\n",
    "#         self.val = val\n",
    "#         self.next = next\n",
    "class Solution(object):\n",
    "\n",
    "    def __init__(self, head):\n",
    "        \"\"\"\n",
    "        :type head: Optional[ListNode]\n",
    "        \"\"\"\n",
    "        self.head = head\n",
    "        self.table = []\n",
    "        curr = self.head\n",
    "        while curr:\n",
    "            self.table.append(curr.val)\n",
    "            curr = curr.next\n",
    "\n",
    "    def getRandom(self):\n",
    "        \"\"\"\n",
    "        :rtype: int\n",
    "        \"\"\"\n",
    "        return random.choice(self.table)\n",
    "\n",
    "# Your Solution object will be instantiated and called as such:\n",
    "# obj = Solution(head)\n",
    "# param_1 = obj.getRandom()"
   ]
  },
  {
   "cell_type": "markdown",
   "metadata": {},
   "source": [
    "<img src='img/382_2.png' />"
   ]
  }
 ],
 "metadata": {
  "kernelspec": {
   "display_name": "ds",
   "language": "python",
   "name": "python3"
  },
  "language_info": {
   "codemirror_mode": {
    "name": "ipython",
    "version": 3
   },
   "file_extension": ".py",
   "mimetype": "text/x-python",
   "name": "python",
   "nbconvert_exporter": "python",
   "pygments_lexer": "ipython3",
   "version": "3.10.10"
  }
 },
 "nbformat": 4,
 "nbformat_minor": 2
}
