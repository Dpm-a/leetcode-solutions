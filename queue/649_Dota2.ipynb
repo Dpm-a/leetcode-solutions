{
 "cells": [
  {
   "cell_type": "markdown",
   "metadata": {},
   "source": [
    "![title](img/649_1.png)"
   ]
  },
  {
   "cell_type": "code",
   "execution_count": null,
   "metadata": {},
   "outputs": [],
   "source": [
    "from collections import deque\n",
    "class Solution(object):\n",
    "    def predictPartyVictory(self, senate):\n",
    "        \n",
    "        n = len(senate)\n",
    "        r_q = deque([i for i, el in enumerate(senate) if el == \"R\"])\n",
    "        d_q = deque([i for i, el in enumerate(senate) if el == \"D\"])\n",
    "\n",
    "        while len(r_q) > 0 < len(r_d):\n",
    "            if r_q[0] < d_q[0]:\n",
    "                x = r_q.popleft()\n",
    "                r_q.append(x + n)\n",
    "                d_q.popleft()\n",
    "            else:\n",
    "                x = d_q.popleft()\n",
    "                d_q.append(x + n)\n",
    "                r_q.popleft()\n",
    "        \n",
    "        return \"Radiant\" if r_q else \"Dire\""
   ]
  },
  {
   "cell_type": "markdown",
   "metadata": {},
   "source": [
    "![title](img/649_2.png)"
   ]
  }
 ],
 "metadata": {
  "language_info": {
   "name": "python"
  }
 },
 "nbformat": 4,
 "nbformat_minor": 2
}
